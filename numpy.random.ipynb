{
 "cells": [
  {
   "cell_type": "markdown",
   "metadata": {},
   "source": [
    "<img src=\"https://user-images.githubusercontent.com/50221806/85330638-a467b280-b489-11ea-8e64-7e7390afea32.png\" style=\"float: left\" width=500 />"
   ]
  },
  {
   "cell_type": "markdown",
   "metadata": {},
   "source": [
    "# Programming for Data Analysis\n",
    "***\n",
    "## Assignment - numpy.random"
   ]
  },
  {
   "cell_type": "markdown",
   "metadata": {},
   "source": [
    "#### Create a notebook that explains the use of the NumPy package including detailed explanations of at least five of the distributions provided for in the package."
   ]
  },
  {
   "cell_type": "markdown",
   "metadata": {},
   "source": [
    "#### There are four distinct tasks to be carried out in your Jupyter notebook\n",
    "<ol>\n",
    "    <li>Explain the overall purpose of the package.</li>\n",
    "    <li>Explain the use of the “Simple random data” and “Permutations” functions.</li>\n",
    "    <li>Explain the use and purpose of at least five “Distributions” functions.</li>\n",
    "    <li>Explain the use of seeds in generating pseudorandom numbers.</li>\n",
    "</ol>"
   ]
  },
  {
   "cell_type": "markdown",
   "metadata": {},
   "source": [
    "## NumPy and numpy.random\n",
    "***\n",
    "### NumPy Background"
   ]
  },
  {
   "cell_type": "markdown",
   "metadata": {},
   "source": [
    "**NumPy**, short for Numerical Python, is considered a foundational Python package for numerical computations [1]. The NumPy package was established by Travis Oliphant in 2005. It was meant as a successor to two earlier scientific Python libraries, Numeric and Numarray, with the goal of bringing a fragmented scientific computing community together around a single framework [2][3].\n",
    "\n",
    "NumPy is an open-source external Python module that provides common mathematical and numerical routines in pre-compiled, fast functions for manipulating large arrays and matrices of numeric data [4]. Numpy does not come pre installed with the Python standard library but can be installed using package manager programs such as pip. Alternatively NumPy does come pre-installed with the Anaconda distribution and it is recommended as the simplest way to get started for scientific computing and data science [5].\n",
    "\n",
    "The Numpy package must be imported with an import statement in order for all of NumPy's functions to be accesible to you. This can be done like the below code. The NumPy package is imported as np to save time when writing multiple commands now you only need call np.x instead of numpy.x. np is a convention used to ensure other users reading the code understand it [4][6]. \n",
    "\n",
    "```python\n",
    "import numpy as np\n",
    "\n",
    "x = np.random.default_rng()\n",
    "```\n",
    "\n",
    "If you only require a function or sub-package from NumPy you can import that package directly into the current namespace using a from statement as below. This allows you to call the function without having to call np.package.function. You can also import the function directly as seen in the second example below [4][6].\n",
    "\n",
    "```python\n",
    "from numpy import random\n",
    "\n",
    "x = random.default_rng()\n",
    "```\n",
    "or\n",
    "\n",
    "```python\n",
    "from numpy.random import default_rng\n",
    "\n",
    "x = default_rng()\n",
    "```"
   ]
  },
  {
   "cell_type": "markdown",
   "metadata": {},
   "source": [
    "### Numpy's Random package\n",
    "***"
   ]
  },
  {
   "cell_type": "markdown",
   "metadata": {},
   "source": []
  },
  {
   "cell_type": "markdown",
   "metadata": {},
   "source": [
    "## References\n",
    "***"
   ]
  },
  {
   "cell_type": "markdown",
   "metadata": {},
   "source": [
    "<ol>\n",
    "    <li>McKinney, W., (2018). Python for Data Analysis: Data Wrangling with Pandas, NumPy, and IPython, Second Edition. p85</li> \n",
    "    <li>McKinney, W., (2018). Python for Data Analysis: Data Wrangling with Pandas, NumPy, and IPython, Second Edition. p86</li> \n",
    "    <li>numpy.org, (2020). About Numpy. https://numpy.org/doc/stable/about.html</li>\n",
    "    <li>M. Scott Shell, (2019). An introduction to Numpy and Scipy, p2 https://sites.engineering.ucsb.edu/~shell/che210d/numpy.pdf </li>\n",
    "    <li>numpy.org, Installing Numpy. https://numpy.org/install/</li>\n",
    "    <li>numpy.org, (2020), NumPy: the absolute basics for beginners, https://numpy.org/devdocs/user/absolute_beginners.html</li>\n",
    "    <li>\n",
    "    \n",
    "    \n",
    "   "
   ]
  },
  {
   "cell_type": "markdown",
   "metadata": {},
   "source": []
  },
  {
   "cell_type": "code",
   "execution_count": null,
   "metadata": {},
   "outputs": [],
   "source": []
  }
 ],
 "metadata": {
  "kernelspec": {
   "display_name": "Python 3",
   "language": "python",
   "name": "python3"
  },
  "language_info": {
   "codemirror_mode": {
    "name": "ipython",
    "version": 3
   },
   "file_extension": ".py",
   "mimetype": "text/x-python",
   "name": "python",
   "nbconvert_exporter": "python",
   "pygments_lexer": "ipython3",
   "version": "3.8.3"
  }
 },
 "nbformat": 4,
 "nbformat_minor": 4
}
