{
 "cells": [
  {
   "cell_type": "markdown",
   "metadata": {},
   "source": [
    "<img src=\"https://user-images.githubusercontent.com/50221806/85330638-a467b280-b489-11ea-8e64-7e7390afea32.png\" style=\"float: left\" width=500 />"
   ]
  },
  {
   "cell_type": "markdown",
   "metadata": {},
   "source": [
    "# Programming for Data Analysis\n",
    "***\n",
    "## Assignment - numpy.random"
   ]
  },
  {
   "cell_type": "markdown",
   "metadata": {},
   "source": [
    "#### Create a notebook that explains the use of the NumPy package including detailed explanations of at least five of the distributions provided for in the package."
   ]
  },
  {
   "cell_type": "markdown",
   "metadata": {},
   "source": [
    "#### There are four distinct tasks to be carried out in your Jupyter notebook\n",
    "<ol>\n",
    "    <li>Explain the overall purpose of the package.</li>\n",
    "    <li>Explain the use of the “Simple random data” and “Permutations” functions.</li>\n",
    "    <li>Explain the use and purpose of at least five “Distributions” functions.</li>\n",
    "    <li>Explain the use of seeds in generating pseudorandom numbers.</li>\n",
    "</ol>"
   ]
  },
  {
   "cell_type": "markdown",
   "metadata": {},
   "source": [
    "## NumPy and numpy.random\n",
    "***\n",
    "### NumPy Background"
   ]
  },
  {
   "cell_type": "markdown",
   "metadata": {},
   "source": [
    "`NumPy`, short for Numerical Python, is considered a foundational Python package for numerical computations [1]. The NumPy package was established by Travis Oliphant in 2005. It was meant as a successor to two earlier scientific Python libraries, Numeric and Numarray, with the goal of bringing a fragmented scientific computing community together around a single framework [2][3].\n",
    "\n",
    "NumPy is an open-source external Python module that provides common mathematical and numerical routines in pre-compiled, fast functions for manipulating large arrays and matrices of numeric data [4]. Numpy does not come pre-installed with the Python standard library but can be installed using package manager programs such as `pip`. Alternatively NumPy does come pre-installed with the `Anaconda distribution` and it is recommended as the simplest way to get started for scientific computing and data science [5].\n",
    "\n",
    "As it is an external package NumPy must be imported with an import statement in order for all of it's functions to be accesible to you. This can be done like the code shown below. The NumPy package is imported **as np** to save time when writing multiple commands, now you only need call np.x instead of numpy.x. The **numpy as np** convention is used to ensure other users reading the code understand it [4][6]. \n",
    "\n",
    "```python\n",
    "import numpy as np\n",
    "\n",
    "x = np.random.default_rng()\n",
    "```\n",
    "\n",
    "If you only require a function or sub-package from NumPy you can import that package directly into the current Python namespace using a from statement as below. This allows you to call the function without having to call np.package.function. You can also import the function directly as seen in the second example below [4][6].\n",
    "\n",
    "```python\n",
    "from numpy import random\n",
    "\n",
    "x = random.default_rng()\n",
    "```\n",
    "or\n",
    "\n",
    "```python\n",
    "from numpy.random import default_rng\n",
    "\n",
    "x = default_rng()\n",
    "```"
   ]
  },
  {
   "cell_type": "markdown",
   "metadata": {},
   "source": [
    "### Numpy's Random package\n",
    "***\n",
    "NumPy's random sub-module is designed to generate pseudo-random numbers and sequences from different statistical distributions [7]. The numpy.random package has functions for efficiently generating arrays of sample values.\n",
    "\n",
    "In the below example the np.random.random function is used to create a single pseudorandom number between 0 and 1 and assign it to the variable x. It can also be used to efficiently create an array of values, as in the second example below we create an array with three columns and 3 rows of values and assign it to the variable y. This is an improvement on the Python built-in random module which only samples one value at a time [8]."
   ]
  },
  {
   "cell_type": "code",
   "execution_count": null,
   "metadata": {},
   "outputs": [],
   "source": [
    "import numpy as np\n",
    "\n",
    "x = np.random.random(size=1)\n",
    "y = np.random.random(size=(3,3))\n",
    "\n",
    "print(x)\n",
    "print(y)"
   ]
  },
  {
   "cell_type": "markdown",
   "metadata": {},
   "source": [
    "#### Pseudo random number generation\n",
    "***\n",
    "It is extremely difficult for computers and computer programs to generate truly random numbers. Instead what programs do, including NumPy's random module, is they create what are called `pseudo random numbers`. These programs use algorithms with defined deterministic behaviour to generate a value or range of values that seem random to an observer [8][9].\n",
    "\n",
    "NumPy's recommended Pseudo Random Number Generator (PRNG), `Generator`, uses O’Neill’s permutation congruential generator algorithm, `(PCG64)`, as the default method for generating random numbers [10]. Legacy versions of numpy.random as well as python's `stdlib random module` use the Mersenne Twister algorithm, `(MT19937)`[11]. Historically NumPy had a strict backwards compatibility policy for it's random number generation functions. This restricted upgrades and improvements to it's processes as any changes had to comply to this policy. More recent releases are not strictly compatibile with previous versions allowing changes such as the move to the PCG64 algorithm [12]. The PCG family of algorithms are considered faster, more efficient and less predictable than most other generators including the Mersenne Twister [13].\n",
    "\n",
    "As shown below, it is still possible to access the Mersenne Twister algorithm to generate random numbers but in the latest version of numpy the default algorithm is PCG64. When default_rng and PCG64() are used with the same seed value they produce identical outputs.\n"
   ]
  },
  {
   "cell_type": "code",
   "execution_count": null,
   "metadata": {},
   "outputs": [],
   "source": [
    "from numpy.random import Generator, PCG64, MT19937, default_rng\n",
    "\n",
    "sd = 1234 # create common seed value\n",
    "\n",
    "z = default_rng(sd) # Initialise a random number generator using numpy's default RNG\n",
    "x = Generator(PCG64(sd)) # Initialise Generator object using PCG64 algorithm\n",
    "y = Generator(MT19937(sd)) # Initialise Generator object using Mersenne Twister algorithm\n",
    "\n",
    "print(z.random(size=3))\n",
    "print(x.random(size=3))\n",
    "print(y.random(size=3))"
   ]
  },
  {
   "cell_type": "markdown",
   "metadata": {},
   "source": [
    "#### Seed values for numpy.random\n",
    "***\n",
    "As PRNG's are deterministic by design their inputs or initial state dictates what their outputs will be. Two identical PRNG's with the same initial state will create the same output of values. While these are not true random values they are statistically similar to random [4]. This behaviour can be very useful, especially in fields where reproducability is key. PRNG's in the numpy.random package allow you to set this initial state in a paramater called `seed`[14]. \n",
    "\n",
    "In the example above **z and x** use the same algorithm and both have their initial seed value set to an arbitrary value of 1234 and therefore produce the same sequence of values: `0.97669977, 0.38019574, & 0.92324623`.\n",
    "\n",
    "If no value is passed as the seed parameter of default_rng() then data will be pulled from the operating system and will generate unpredictable values [10]. In the past it had been popular to set the global state of a program using `numpy.random.seed()`. While this fuction is still available it is recommended that this is not used as setting a global state can cause other problems [12]. Instead each generator object should be initialised with a seed as a parameter. If the generator needs to be reseeded it is now best practice to recreate the a new generator as opposed to reseeding using numpy.random.seed() as shown below .\n",
    "```python\n",
    "rng = np.random.default_rng(1234)\n",
    "# reseed later as\n",
    "rng = np.random.default_rng(5678)\n",
    "```\n",
    "\n",
    "In Summary, seed values are important especially where repeatability and reproducability is needed in the outputs of the code. In this a seed should be passed to each generator when it is initialised to set it's initial state. If that state needs to be reset later then a new generator should be formed with a new seed. If it is required that the results are not easy to reproduce or predict then the seed value should be selected in a nondeterministic fashion and hidden[14].   \n",
    "\n",
    "\n",
    "\n",
    "\n"
   ]
  },
  {
   "cell_type": "markdown",
   "metadata": {},
   "source": [
    "### Simple random data\n",
    "***\n",
    "Numpy's random module has a number of functions available to generate simple random data. \n",
    "The four main methods for generating simple random data are:\n",
    "\n",
    "1. **integers**\n",
    "2. **random**\n",
    "3. **choice**\n",
    "4. **bytes**\n",
    "\n",
    "Previously used methods like `randint` and `random_integers` have been consolidated into the generator method `intergers` to clean up the code base and reduce duplication [7].\n",
    "\n",
    "In the more recent versions of NumPy it is recommended to move away from the formerly used RandomState and for new code to initialise a  Generator object and call methods on the generator as in the code below [7]."
   ]
  },
  {
   "cell_type": "code",
   "execution_count": null,
   "metadata": {},
   "outputs": [],
   "source": [
    "import numpy as np\n",
    "# Not recommended to call method in this fashion \n",
    "x = np.random.randint(5)\n",
    "print(x)\n",
    "\n",
    "# Instead initialise a generator like rng below \n",
    "rng = np.random.default_rng()\n",
    "\n",
    "# Call method integers on rng to produce sample data\n",
    "y = rng.integers(5)\n",
    "print(y)"
   ]
  },
  {
   "cell_type": "markdown",
   "metadata": {},
   "source": [
    "#### integers\n",
    "***\n",
    "The `integers()` method returns random integers from the `discrete uniform distribution` from within a *low* to *high* range. The method has 5 parameters 4 of which are optional for the user[16]. The dicrete uniform distrobution means that each value in the range has an equal probability of being selected [17].\n",
    "```python\n",
    "integers(low, high=None, size=None, dtype=np.int64, endpoint=False)\n",
    "```\n",
    "- **low**: The low parameter is required and sets the lowest integer value from which the distribution can be drawn. An exception to this is if `high=None` then low is set to 0 and high is set to low. low can be an int or an array of ints\n",
    "- **high** (optional): By default high is set to None. If a high value is included then high is the upper bound of the distribution. The range is up to but exclusing the high value, unless endpoint=True. high can be an int or array of ints.\n",
    "- **size** (optional): By default size is set to None. This means only a single value is returned. If a value is provided for size than that value governs the shape of the output. size can by an int or a tuple of ints.\n",
    "- **dtype** (optional): This parameter decides the data type of the output. By default it is set to np.int64.\n",
    "- **endpoint** (optional): By default endpoint is set to False. This means the range of values is exclusive of the high value. If `endpoint = True` then the range of values is inclusive of high. [16]\n",
    "\n",
    "As we see from the below examples it is possible to customise `integers()` in order to generate the random value or range of values that we need from any range of ints we want and  with the type and shape of the output we wish to create.\n"
   ]
  },
  {
   "cell_type": "code",
   "execution_count": null,
   "metadata": {},
   "outputs": [],
   "source": [
    "from numpy.random import default_rng\n",
    "# initialise generator object rng\n",
    "rng = default_rng()\n",
    "\n",
    "# 1. low and high value provided\n",
    "print(\"eg.1: \", rng.integers(0,5)) # generates random int between low 0 and high 5 exclusive\n",
    "\n",
    "# 2. low value only becomes high value as high=None, low becomes 0\n",
    "print(\"eg.2: \", rng.integers(5, endpoint=True)) # generates random int between 0 and 5 inclusive\n",
    "\n",
    "# 3. returns a 3 value array between 0-5 exclusive\n",
    "print(\"eg.3: \", rng.integers(5, size=3))\n",
    "\n",
    "# 4. returns a 2x2 array with 2 different lower and upper bounds\n",
    "print(\"eg.4:\\n \", rng.integers([1, 3], [3, 6], size=(2, 2)))"
   ]
  },
  {
   "cell_type": "markdown",
   "metadata": {},
   "source": [
    "#### random\n",
    "***\n",
    "The `random()` method returns random floats between 0 and 1 from the `continuous uniform distribution`. This distribution ensures that each value between 0 and 1 are equally likely to occur [18][19]. The random method takes over from the legacy RandomState methods rand and random_sample when using the recommended Generator object [7].\n",
    "\n",
    "The random method has three optional parameters which effect it's output.\n",
    "```python\n",
    "random(size=None, dtype=np.float64, out=None)\n",
    "```\n",
    "- **size**: Controls the output shape. By default = None and returns a single value. Can be an int or a tuple of ints\n",
    "- **dtype**: Sets the data type of the output. float64 and float32 supported, np.float64 by default.\n",
    "- **out**: An array can be used to store the result. If `size=None` then the output will match they shape out the array entered. If size is not None then the shape of the array must match the shape of size.[18]\n",
    "\n",
    "As we can see from the below examples, we can customise the outputs of the random method by altering the input parameters. We can change the shape of the output and assign the return values to an output ndarray using the `size` and `out` parameters respectively. We can also perform calculations on the output if we require values that differ from the standard 0 to 1 output. "
   ]
  },
  {
   "cell_type": "code",
   "execution_count": 1,
   "metadata": {},
   "outputs": [
    {
     "name": "stdout",
     "output_type": "stream",
     "text": [
      "eg.1:\n",
      "0.49812336356253306\n",
      "eg.2:\n",
      "[[0.71339548 0.02298002 0.6283706 ]\n",
      " [0.74237677 0.26685438 0.27154551]]\n",
      "eg.3:\n",
      "[[8.41976304 6.58396081]\n",
      " [9.50078173 6.92627107]]\n",
      "eg.4\n",
      "[[0.01108749 0.73467482]\n",
      " [0.13520784 0.81057304]]\n"
     ]
    }
   ],
   "source": [
    "from numpy.random import default_rng\n",
    "from numpy import ndarray\n",
    "\n",
    "rng = default_rng()\n",
    "\n",
    "# 1. Single random float between 0 and 1\n",
    "print(\"eg.1:\")\n",
    "print(rng.random())\n",
    "\n",
    "# 2. Generate an 2x3 array of floats between 0 and 1\n",
    "print(\"eg.2:\")\n",
    "print(rng.random((2,3)))\n",
    "\n",
    "# 3. Generate an 2x2 array of floats between 5 and 10\n",
    "x = rng.random((2,2)) * 5 + 5\n",
    "print(\"eg.3:\")\n",
    "print(x)\n",
    "\n",
    "# 4. Assign output to ndarray arr\n",
    "arr = ndarray((2,2))\n",
    "rng.random(size=(2,2), out=arr)\n",
    "print(\"eg.4\")\n",
    "print(arr)"
   ]
  },
  {
   "cell_type": "markdown",
   "metadata": {},
   "source": [
    "#### choice\n",
    "***\n",
    "The `choice()` method returns a random sample from a given 1-d array. The output can be a single value or an array of values. By default choice applies a uniform distribution to the array but this is customizable using the parameter **p** [20].\n",
    "\n",
    "The choice method has 6 parameters 5 of which are optional for the user.\n",
    "```python\n",
    "choice(a, size=None, replace=True, p=None, axis=0, shuffle=True)\n",
    "```\n",
    "- **a**: The array from which a random sample is generated. If **a** is an int, a sample array is generated using np.arange(a).\n",
    "- **size** (optional): Dictates output shape. By default size=None which returns a single value. size can be an int or a tuple of ints which allows for multi dimensional array output.\n",
    "- **replace** (optional): Controls wether the sample is replaced after selection. By default replace=True. If replace=False an item selected from the sample is not in the sample for future selection.\n",
    "- **p** (optional): Assigns probabilities to each value in array a. By default p=None which assumes a uniform distribution of each element in a. If p is provided it must be a 1-D array with same number of elements as a and all elements of p must add up to 1.\n",
    "- **axis** (optional): By defauly axis=0 which selects by row. If **a** is a 2-D axis can decide to select from rows or cols.\n",
    "- **shuffle** (optional): Controls whether the output is shuffled when replace=False. shuffle=False provides a speedup to the running of the code. [20]\n",
    "\n",
    "In the examples below we can see that the choice method is great for selecting a value or range of values from a given array. \n",
    "In the main, the parameters a, size, replace and p would be the most utilised while axis and shuffle may be needed in some less common scenarios. \n",
    "\n"
   ]
  },
  {
   "cell_type": "code",
   "execution_count": 83,
   "metadata": {
    "scrolled": true
   },
   "outputs": [
    {
     "name": "stdout",
     "output_type": "stream",
     "text": [
      "eg.1\n",
      "2\n",
      "eg.2\n",
      "[[0 3]\n",
      " [3 2]]\n",
      "eg.3\n",
      "[4 2 3]\n",
      "eg.4\n",
      "0\n",
      "eg.5\n",
      "[[1 2 3]] [[1]\n",
      " [7]]\n",
      "eg.6\n",
      "[4 2 0 1 3] [0 1 2 3 4]\n"
     ]
    }
   ],
   "source": [
    "from numpy.random import default_rng\n",
    "from numpy import ndarray\n",
    "\n",
    "rng = default_rng()\n",
    "\n",
    "# 1. select one random value from sample array [0 1 2 3 4]\n",
    "print(\"eg.1\")\n",
    "print(rng.choice(5))\n",
    "\n",
    "# 2. selects random 2x2 array from sample array [0 1 2 3 4]\n",
    "print(\"eg.2\")\n",
    "print(rng.choice(5, size=(2,2)))\n",
    "\n",
    "# 3. selects random value from sample array [0 1 2 3 4], \n",
    "# value cannot be selected twice as it is not replaced after selection\n",
    "print(\"eg.3\")\n",
    "print(rng.choice(5, size=3, replace=False))\n",
    "\n",
    "# 4. assign probability of outcome. from array [0 1 2 3 4] 0 has 60% chance of being selected\n",
    "print(\"eg.4\")\n",
    "print(rng.choice(5, p=[.6, .1, .1, .1, .1]))\n",
    "\n",
    "# Selecting axis\n",
    "arr = [[1,2,3],[7,8,9]] # 2-D array arr\n",
    "x = rng.choice(arr, size=1, axis=0) # selects by row\n",
    "y = rng.choice(arr, size=1, axis=1) # selects by col\n",
    "print(\"eg.5\")\n",
    "print(x, y)\n",
    "\n",
    "# shuffle=True & shuffle=False\n",
    "x = rng.choice(5, size=5, replace=False, shuffle=True) # Shuffle values, retrns in random order\n",
    "y = rng.choice(5, size=5, replace=False, shuffle=False) # returns array in order [0 1 2 3 4]\n",
    "\n",
    "print(\"eg.6\")\n",
    "print(x, y)"
   ]
  },
  {
   "cell_type": "markdown",
   "metadata": {},
   "source": [
    "#### bytes\n",
    "***\n",
    "The `bytes()` method takes a single input `length` and returns a string of random bytes of length `length` [21].\n",
    "```python\n",
    "bytes(length)\n",
    "```\n",
    "Generating random bytes for functions such as encrypting or salting for security or authentication purposes [22].\n"
   ]
  },
  {
   "cell_type": "code",
   "execution_count": 90,
   "metadata": {},
   "outputs": [
    {
     "name": "stdout",
     "output_type": "stream",
     "text": [
      "x:  b'\\xca'\n",
      "y:  b'\\xa5\\xd5\\xca\\xd5X\\xc5\\xbd|\\xc7='\n"
     ]
    }
   ],
   "source": [
    "from numpy.random import default_rng\n",
    "\n",
    "rng = default_rng()\n",
    "\n",
    "x = rng.bytes(1)\n",
    "y = rng.bytes(10)\n",
    "\n",
    "print(\"x: \", x)\n",
    "print(\"y: \", y)"
   ]
  },
  {
   "cell_type": "markdown",
   "metadata": {},
   "source": [
    "### Permutations\n",
    "***\n",
    "The permutaion functions in numpy.random refer to methods for the arrangement or rearrangement of elements within a set [23].\n",
    "\n",
    "numpy.random has two such permutations functions that we will look at in more detail:\n",
    "\n",
    "1. shuffle\n",
    "2. permutation"
   ]
  },
  {
   "cell_type": "markdown",
   "metadata": {},
   "source": [
    "#### shuffle\n",
    "***\n",
    "The `shuffle()` method modifies a sequence by randomly shuffling its elements. shuffle takes one required parameter and one optional parameter listed below [24]:\n",
    "```python\n",
    "shuffle(x, axis=0)\n",
    "```\n",
    "- **x**: The array or list to be shuffled\n",
    "- **axis** (optional): Dictates the axis for x to be shuffled on. Only applicable to ndarray objects.\n",
    "\n",
    "The return value of shuffle is **None**, this means it is not to be used to produce a copy of the original array **x** but instead modifies the array structure itself. This behaviour is seen in the example eg.1 below. Shuffle can also be used on strings provided they are in an array like structure like in eg.2 below.\n"
   ]
  },
  {
   "cell_type": "code",
   "execution_count": 97,
   "metadata": {},
   "outputs": [
    {
     "name": "stdout",
     "output_type": "stream",
     "text": [
      "[0 1 2 3 4 5 6 7 8]\n",
      "[2 0 7 1 8 4 6 5 3]\n",
      "None\n"
     ]
    }
   ],
   "source": [
    "# eg.1\n",
    "from numpy.random import default_rng\n",
    "from numpy import arange\n",
    "\n",
    "# initialise generator object rng\n",
    "rng = default_rng()\n",
    "\n",
    "arr = arange(9) # create array [0,9] exclusive\n",
    "print(arr) # array in order\n",
    "\n",
    "rng.shuffle(arr) # shuffle the array\n",
    "print(arr) # new array order printed\n",
    "\n",
    "x = rng.shuffle(arr) # assign shuffle to new variable returns a None value\n",
    "print(x)"
   ]
  },
  {
   "cell_type": "code",
   "execution_count": 109,
   "metadata": {},
   "outputs": [
    {
     "name": "stdout",
     "output_type": "stream",
     "text": [
      "['j', 'u', 's', 't', ' ', 'a', ' ', 'f', 'e', 'w', ' ', 'w', 'o', 'r', 'd', 's']\n",
      "[' ', 'w', 'e', 'd', 'a', 't', ' ', 'f', 'w', 'u', 's', ' ', 'o', 'j', 's', 'r']\n"
     ]
    }
   ],
   "source": [
    "# eg.2\n",
    "from numpy.random import default_rng\n",
    "\n",
    "rng = default_rng()\n",
    "\n",
    "str = \"just a few words\"\n",
    "y = list(str)  # y is a list of chars from string str\n",
    "\n",
    "print(y) # print original list\n",
    "rng.shuffle(y) # shuffle elements in list\n",
    "\n",
    "print(y) # print shuffled list\n"
   ]
  },
  {
   "cell_type": "markdown",
   "metadata": {},
   "source": [
    "#### permutation\n",
    "***\n",
    "The `permutation()` method returns a sequence by randomly altering the arangment of an input sequence or range **x**. permutation takes one required parameter and one optional parameter listed below [25]: \n",
    "```python\n",
    "permutation(x, axis=0)\n",
    "```\n",
    "- **x**: input int or array. If x is an int, that int is passed to np.arange to create a range of values. If x is an array, a copy is made and the elements are shuffled randomly.\n",
    "- **axis** (optional): Dictates the axis for x to be shuffled on. Default is 0\n",
    "\n",
    "Unlike the shuffle method, permutation leaves the original array intact and returns a new array which is a shuffled copy of the original."
   ]
  },
  {
   "cell_type": "code",
   "execution_count": 112,
   "metadata": {
    "scrolled": true
   },
   "outputs": [
    {
     "name": "stdout",
     "output_type": "stream",
     "text": [
      "[4 0 7 2 3 6 8 1 5] values 0-9 exclusive shuffled\n",
      "\n",
      "[0 1 2 3 4 5 6 7 8] arr in its original format\n",
      "[0 7 3 4 8 6 1 2 5] x is a shuffled copy of arr\n",
      "[0 1 2 3 4 5 6 7 8] arr remains unchanged\n"
     ]
    }
   ],
   "source": [
    "from numpy.random import default_rng\n",
    "from numpy import arange\n",
    "\n",
    "rng = default_rng() # initialise generator object rng\n",
    "\n",
    "# eg.1\n",
    "a = rng.permutation(9) # int 9 passed to np.arange to create array\n",
    "print(a, \"values 0-9 exclusive shuffled\\n\")\n",
    "\n",
    "# eg. 2\n",
    "arr = arange(9) #  create array [0,9] exclusive \n",
    "print(arr, \"arr in its original format\")\n",
    "\n",
    "rng.permutation(arr) # unlike shuffle this does not alter original array\n",
    "\n",
    "x = rng.permutation(arr) # new array x created, permuted copy of arr\n",
    "\n",
    "print(x, \"x is a shuffled copy of arr\")\n",
    "print(arr, \"arr remains unchanged\")"
   ]
  },
  {
   "cell_type": "markdown",
   "metadata": {},
   "source": [
    "### numpy.random Distributions\n",
    "***\n"
   ]
  },
  {
   "cell_type": "markdown",
   "metadata": {},
   "source": [
    "## References\n",
    "***"
   ]
  },
  {
   "cell_type": "markdown",
   "metadata": {},
   "source": [
    "1. McKinney, W., (2018). Python for Data Analysis: Data Wrangling with Pandas, NumPy, and IPython, Second Edition. p85\n",
    "2. McKinney, W., (2018). Python for Data Analysis: Data Wrangling with Pandas, NumPy, and IPython, Second Edition. p86  \n",
    "3. numpy.org, (2020). About Numpy. https://numpy.org/doc/stable/about.html  \n",
    "4. M. Scott Shell, (2019). An introduction to Numpy and Scipy, p2. p19. https://sites.engineering.ucsb.edu/~shell/che210d/numpy.pdf  \n",
    "5. numpy.org, Installing Numpy. https://numpy.org/install/  \n",
    "6. numpy.org, (2020), NumPy: the absolute basics for beginners, https://numpy.org/devdocs/user/absolute_beginners.html  \n",
    "7. numpy.org, (2020), Random sampling (numpy.random), https://numpy.org/doc/stable/reference/random/index.html?  \n",
    "8. McKinney, W., (2018). Python for Data Analysis: Data Wrangling with Pandas, NumPy, and IPython, Second Edition. p118\n",
    "9. w3schools, (2020). w3schools.com. https://www.w3schools.com/python/numpy_random.asp\n",
    "10. numpy.org, (2020). Random Generator. https://numpy.org/doc/stable/reference/random/generator.html\n",
    "11. numpy.org, (2020). Legacy Random Generation. https://numpy.org/doc/stable/reference/random/legacy.html#numpy.random.RandomState\n",
    "12. numpy.org, (2019). Random Number Generation Policy. https://numpy.org/neps/nep-0019-rng-policy.html\n",
    "13. pcg-random.org, (2018). PCG, A Family of Better Random Number Generators. https://www.pcg-random.org/\n",
    "14. O'Neill, Melissa (2014). PCG: A Family of Simple Fast, Space-Efficient Statistically, Good Algorithms for Random Number Generation, p7-8. https://www.pcg-random.org/pdf/hmc-cs-2014-0905.pdf\n",
    "15. numpy.org, (2020). numpy.random.seed. https://numpy.org/doc/stable/reference/random/generated/numpy.random.seed.html\n",
    "16. numpy.org, (2020). numpy.random.integers. https://numpy.org/doc/stable/reference/random/generated/numpy.random.Generator.integers.html\n",
    "17. Weisstein, Eric W. Dicrete Uniform Distribution. https://mathworld.wolfram.com/DiscreteUniformDistribution.html\n",
    "18. numpy.org, (2020). numpy.random.random. https://numpy.org/doc/stable/reference/random/generated/numpy.random.Generator.random.html\n",
    "19. Hartmann, K., Krois, J., Waske, B. (2018): E-Learning Project SOGA: Statistics and Geospatial Data Analysis. Department of Earth Sciences, Freie Universitaet Berlin. https://www.geo.fu-berlin.de/en/v/soga/Basics-of-statistics/Continous-Random-Variables/Continuous-Uniform-Distribution/index.html\n",
    "20. numpy.org, (2020). numpy.random.Generator.choice. https://numpy.org/doc/stable/reference/random/generated/numpy.random.Generator.choice.html\n",
    "21. numpy.org, (2020). numpy.random.Generator.bytes. https://numpy.org/doc/stable/reference/random/generated/numpy.random.Generator.bytes.html\n",
    "22. avelx.co.uk, (2015). random bytes nad random int functions. https://www.avelx.co.uk/random-bytes-and-random-int-functions/\n",
    "23. w3schools, (2020). Random Permutations. https://www.w3schools.com/python/numpy_random_permutation.asp\n",
    "24. numpy.org, (2020). numpy.random.Generator.shuffle. https://numpy.org/doc/stable/reference/random/generated/numpy.random.Generator.shuffle.html\n",
    "25. numpy.org, (2020). numpy.random.Generator.permutation. https://numpy.org/doc/stable/reference/random/generated/numpy.random.Generator.permutation.html\n",
    "\n",
    "\n",
    "\n",
    "\n",
    "\n",
    "\n",
    "\n",
    "    \n",
    "    \n",
    "   "
   ]
  },
  {
   "cell_type": "code",
   "execution_count": null,
   "metadata": {},
   "outputs": [],
   "source": []
  }
 ],
 "metadata": {
  "kernelspec": {
   "display_name": "Python 3",
   "language": "python",
   "name": "python3"
  },
  "language_info": {
   "codemirror_mode": {
    "name": "ipython",
    "version": 3
   },
   "file_extension": ".py",
   "mimetype": "text/x-python",
   "name": "python",
   "nbconvert_exporter": "python",
   "pygments_lexer": "ipython3",
   "version": "3.8.3"
  }
 },
 "nbformat": 4,
 "nbformat_minor": 4
}
