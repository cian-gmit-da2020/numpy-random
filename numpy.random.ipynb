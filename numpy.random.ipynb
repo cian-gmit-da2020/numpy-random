{
 "cells": [
  {
   "cell_type": "markdown",
   "metadata": {},
   "source": [
    "<img src=\"https://user-images.githubusercontent.com/50221806/85330638-a467b280-b489-11ea-8e64-7e7390afea32.png\" style=\"float: left\" width=500 />"
   ]
  },
  {
   "cell_type": "markdown",
   "metadata": {},
   "source": [
    "# Programming for Data Analysis\n",
    "***\n",
    "## Assignment - Cian Hogan"
   ]
  },
  {
   "cell_type": "markdown",
   "metadata": {},
   "source": [
    "## NumPy and numpy.random\n",
    "***\n",
    "### 1. NumPy Background"
   ]
  },
  {
   "cell_type": "markdown",
   "metadata": {},
   "source": [
    "`NumPy`, short for Numerical Python, is considered a foundational Python package for numerical computations [1]. The NumPy package was established by Travis Oliphant in 2005. It was meant as a successor to two earlier scientific Python libraries, Numeric and Numarray, with the goal of bringing a fragmented scientific computing community together around a single framework [2][3].\n",
    "\n",
    "NumPy is an open-source external Python module that provides common mathematical and numerical routines in pre-compiled, fast functions for manipulating large arrays and matrices of numeric data [4]. Numpy does not come pre-installed with the Python standard library but can be installed using package manager programs such as `pip`. Alternatively, NumPy does come pre-installed with the `Anaconda distribution` and it is recommended as the simplest way to get started for scientific computing and data science [5].\n",
    "\n",
    "As it is an external package NumPy must be imported with an import statement in order for all of its functions to be accesible to you. This can be done like the code shown below. The NumPy package is imported **as np** to save time when writing multiple commands, now you only need call np.x instead of numpy.x. The **numpy as np** convention is used to ensure other users reading the code understand it [4][6]. \n",
    "\n",
    "```python\n",
    "import numpy as np\n",
    "\n",
    "x = np.random.default_rng()\n",
    "```\n",
    "\n",
    "If you only require a function or sub-package from NumPy you can import that package directly into the current Python namespace using a from statement as below. This allows you to call the function without having to call np.package.function. You can also import the function directly as seen in the second example below [4][6].\n",
    "\n",
    "```python\n",
    "from numpy import random\n",
    "\n",
    "x = random.default_rng()\n",
    "```\n",
    "or\n",
    "\n",
    "```python\n",
    "from numpy.random import default_rng\n",
    "\n",
    "x = default_rng()\n",
    "```"
   ]
  },
  {
   "cell_type": "markdown",
   "metadata": {},
   "source": [
    "### 2. Numpy's Random package\n",
    "***\n",
    "NumPy's random sub-module is designed to generate pseudo-random numbers and sequences from different statistical distributions [7]. The numpy.random package has functions for efficiently generating arrays of sample values.\n",
    "\n",
    "In the below example the np.random.random function is used to create a single pseudorandom number between 0 and 1 and assign it to the variable x. It can also be used to efficiently create an array of values, as in the second example below we create an array with three columns and 3 rows of values and assign it to the variable y. This is an improvement on the Python built-in random module which only samples one value at a time [8]."
   ]
  },
  {
   "cell_type": "code",
   "execution_count": null,
   "metadata": {},
   "outputs": [],
   "source": [
    "import numpy as np\n",
    "\n",
    "x = np.random.random(size=1)\n",
    "y = np.random.random(size=(3,3))\n",
    "\n",
    "print(x)\n",
    "print(y)"
   ]
  },
  {
   "cell_type": "markdown",
   "metadata": {},
   "source": [
    "#### 2a) Pseudo random number generation\n",
    "***\n",
    "It is extremely difficult for computers and computer programs to generate truly random numbers. Instead what programs do, including NumPy's random module, is they create what are called `pseudo random numbers`. These programs use algorithms with defined deterministic behaviour to generate a value or range of values that seem random to an observer [8][9].\n",
    "\n",
    "NumPy's recommended Pseudo Random Number Generator (PRNG), `Generator`, uses O’Neill’s permutation congruential generator algorithm, `(PCG64)`, as the default method for generating random numbers [10]. Legacy versions of numpy.random as well as python's `stdlib random module` use the Mersenne Twister algorithm, `(MT19937)`[11]. Historically NumPy had a strict backwards compatibility policy for it's random number generation functions. This restricted upgrades and improvements to it's processes as any changes had to comply to this policy. More recent releases are not strictly compatible with previous versions allowing changes such as the move to the PCG64 algorithm [12]. The PCG family of algorithms are considered faster, more efficient and less predictable than most other generators including the Mersenne Twister [13].\n",
    "\n",
    "As shown below, it is still possible to access the Mersenne Twister algorithm to generate random numbers but in the latest version of numpy the default algorithm is PCG64. When default_rng and PCG64() are used with the same seed value they produce identical outputs.\n"
   ]
  },
  {
   "cell_type": "code",
   "execution_count": 4,
   "metadata": {},
   "outputs": [
    {
     "name": "stdout",
     "output_type": "stream",
     "text": [
      "[0.97669977 0.38019574 0.92324623]\n",
      "[0.97669977 0.38019574 0.92324623]\n",
      "[0.12038356 0.40370142 0.87770263]\n"
     ]
    }
   ],
   "source": [
    "from numpy.random import Generator, PCG64, MT19937, default_rng\n",
    "\n",
    "sd = 1234 # create common seed value\n",
    "\n",
    "z = default_rng(sd) # Initialise a random number generator using numpy's default RNG\n",
    "x = Generator(PCG64(sd)) # Initialise Generator object using PCG64 algorithm\n",
    "y = Generator(MT19937(sd)) # Initialise Generator object using Mersenne Twister algorithm\n",
    "\n",
    "print(z.random(size=3))\n",
    "print(x.random(size=3))\n",
    "print(y.random(size=3))"
   ]
  },
  {
   "cell_type": "markdown",
   "metadata": {},
   "source": [
    "#### 2b) Seed values for numpy.random\n",
    "***\n",
    "As PRNG's are deterministic by design their inputs or initial state dictates what their outputs will be. Two identical PRNG's with the same initial state will create the same output of values. While these are not true random values they are statistically similar to random [4]. This behaviour can be very useful, especially in fields where reproducibility is key. PRNG's in the numpy.random package allow you to set this initial state in a parameter called `seed`[14]. \n",
    "\n",
    "In the example above **z and x** use the same algorithm and both have their initial seed value set to an arbitrary value of 1234 and therefore produce the same sequence of values: `0.97669977, 0.38019574, & 0.92324623`.\n",
    "\n",
    "If no value is passed as the seed parameter of default_rng() then data will be pulled from the operating system and will generate unpredictable values [10]. In the past it had been popular to set the global state of a program using `numpy.random.seed()`. While this function is still available it is recommended that this is not used as setting a global state can cause other problems [12]. Instead each generator object should be initialised with a seed as a parameter. If the generator needs to be reseeded it is now best practice to recreate the a new generator as opposed to reseeding using numpy.random.seed() as shown below .\n",
    "```python\n",
    "rng = np.random.default_rng(1234)\n",
    "# reseed later as\n",
    "rng = np.random.default_rng(5678)\n",
    "```\n",
    "\n",
    "In Summary, seed values are important especially where repeatability and reproducibility is needed in the outputs of the code. In this a seed should be passed to each generator when it is initialised to set it's initial state. If that state needs to be reset later then a new generator should be formed with a new seed. If it is required that the results are not easy to reproduce or predict then the seed value should be selected in a nondeterministic fashion and hidden[14].   \n",
    "\n",
    "\n",
    "\n",
    "\n"
   ]
  },
  {
   "cell_type": "markdown",
   "metadata": {},
   "source": [
    "### 3. Simple random data\n",
    "***\n",
    "Numpy's random module has a number of functions available to generate simple random data. \n",
    "The four main methods for generating simple random data are:\n",
    "\n",
    "1. **integers**\n",
    "2. **random**\n",
    "3. **choice**\n",
    "4. **bytes**\n",
    "\n",
    "Previously used methods like `randint` and `random_integers` have been consolidated into the generator method `integers` to clean up the code base and reduce duplication [7].\n",
    "\n",
    "In the more recent versions of NumPy it is recommended to move away from the formerly used RandomState and for new code to initialise a  Generator object and call methods on the generator as in the code below [7]."
   ]
  },
  {
   "cell_type": "code",
   "execution_count": 1,
   "metadata": {},
   "outputs": [
    {
     "name": "stdout",
     "output_type": "stream",
     "text": [
      "0\n",
      "4\n"
     ]
    }
   ],
   "source": [
    "import numpy as np\n",
    "# Not recommended to call method in this fashion \n",
    "x = np.random.randint(5)\n",
    "print(x)\n",
    "\n",
    "# Instead initialise a generator like rng below \n",
    "rng = np.random.default_rng()\n",
    "\n",
    "# Call method integers on rng to produce sample data\n",
    "y = rng.integers(5)\n",
    "print(y)"
   ]
  },
  {
   "cell_type": "markdown",
   "metadata": {},
   "source": [
    "#### 3a) integers\n",
    "***\n",
    "The `integers()` method returns random integers from the `discrete uniform distribution` from within a *low* to *high* range. The method has 5 parameters 4 of which are optional for the user[16]. The discrete uniform distribution means that each value in the range has an equal probability of being selected [17].\n",
    "```python\n",
    "integers(low, high=None, size=None, dtype=np.int64, endpoint=False)\n",
    "```\n",
    "- **low**: The low parameter is required and sets the lowest integer value from which the distribution can be drawn. An exception to this is if `high=None` then low is set to 0 and high is set to low. low can be an int or an array of ints\n",
    "- **high** (optional): By default high is set to None. If a high value is included then high is the upper bound of the distribution. The range is up to but excluding the high value, unless endpoint=True. high can be an int or array of ints.\n",
    "- **size** (optional): By default size is set to None. This means only a single value is returned. If a value is provided for size than that value governs the shape of the output. size can by an int or a tuple of ints.\n",
    "- **dtype** (optional): This parameter decides the data type of the output. By default it is set to np.int64.\n",
    "- **endpoint** (optional): By default endpoint is set to False. This means the range of values is exclusive of the high value. If `endpoint = True` then the range of values is inclusive of high. [16]\n",
    "\n",
    "As we see from the below examples it is possible to customise `integers()` in order to generate the random value or range of values that we need from any range of ints we want and  with the type and shape of the output we wish to create.\n"
   ]
  },
  {
   "cell_type": "code",
   "execution_count": null,
   "metadata": {},
   "outputs": [],
   "source": [
    "from numpy.random import default_rng\n",
    "# initialise generator object rng\n",
    "rng = default_rng()\n",
    "\n",
    "# 1. low and high value provided\n",
    "print(\"eg.1: \", rng.integers(0,5)) # generates random int between low 0 and high 5 exclusive\n",
    "\n",
    "# 2. low value only becomes high value as high=None, low becomes 0\n",
    "print(\"eg.2: \", rng.integers(5, endpoint=True)) # generates random int between 0 and 5 inclusive\n",
    "\n",
    "# 3. returns a 3 value array between 0-5 exclusive\n",
    "print(\"eg.3: \", rng.integers(5, size=3))\n",
    "\n",
    "# 4. returns a 2x2 array with 2 different lower and upper bounds\n",
    "print(\"eg.4:\\n \", rng.integers([1, 3], [3, 6], size=(2, 2)))"
   ]
  },
  {
   "cell_type": "markdown",
   "metadata": {},
   "source": [
    "#### 3b) random\n",
    "***\n",
    "The `random()` method returns random floats between 0 and 1 from the `continuous uniform distribution`. This distribution ensures that each value between 0 and 1 are equally likely to occur [18][19]. The random method takes over from the legacy RandomState methods rand and random_sample when using the recommended Generator object [7].\n",
    "\n",
    "The random method has three optional parameters which effect it's output.\n",
    "```python\n",
    "random(size=None, dtype=np.float64, out=None)\n",
    "```\n",
    "- **size**: Controls the output shape. By default = None and returns a single value. Can be an int or a tuple of ints\n",
    "- **dtype**: Sets the data type of the output. float64 and float32 supported, np.float64 by default.\n",
    "- **out**: An array can be used to store the result. If `size=None` then the output will match they shape out the array entered. If size is not None then the shape of the array must match the shape of size.[18]\n",
    "\n",
    "As we can see from the below examples, we can customise the outputs of the random method by altering the input parameters. We can change the shape of the output and assign the return values to an output ndarray using the `size` and `out` parameters respectively. We can also perform calculations on the output if we require values that differ from the standard 0 to 1 output. "
   ]
  },
  {
   "cell_type": "code",
   "execution_count": null,
   "metadata": {},
   "outputs": [],
   "source": [
    "from numpy.random import default_rng\n",
    "from numpy import ndarray\n",
    "\n",
    "rng = default_rng()\n",
    "\n",
    "# 1. Single random float between 0 and 1\n",
    "print(\"eg.1:\")\n",
    "print(rng.random())\n",
    "\n",
    "# 2. Generate an 2x3 array of floats between 0 and 1\n",
    "print(\"eg.2:\")\n",
    "print(rng.random((2,3)))\n",
    "\n",
    "# 3. Generate an 2x2 array of floats between 5 and 10\n",
    "x = rng.random((2,2)) * 5 + 5\n",
    "print(\"eg.3:\")\n",
    "print(x)\n",
    "\n",
    "# 4. Assign output to ndarray arr\n",
    "arr = ndarray((2,2))\n",
    "rng.random(size=(2,2), out=arr)\n",
    "print(\"eg.4\")\n",
    "print(arr)"
   ]
  },
  {
   "cell_type": "markdown",
   "metadata": {},
   "source": [
    "#### 3c) choice\n",
    "***\n",
    "The `choice()` method returns a random sample from a given 1-d array. The output can be a single value or an array of values. By default choice applies a uniform distribution to the array but this is customizable using the parameter **p** [20].\n",
    "\n",
    "The choice method has 6 parameters 5 of which are optional for the user.\n",
    "```python\n",
    "choice(a, size=None, replace=True, p=None, axis=0, shuffle=True)\n",
    "```\n",
    "- **a**: The array from which a random sample is generated. If **a** is an int, a sample array is generated using np.arange(a).\n",
    "- **size** (optional): Dictates output shape. By default size=None which returns a single value. size can be an int or a tuple of ints which allows for multi dimensional array output.\n",
    "- **replace** (optional): Controls whether the sample is replaced after selection. By default replace=True. If replace=False an item selected from the sample is not in the sample for future selection.\n",
    "- **p** (optional): Assigns probabilities to each value in array a. By default p=None which assumes a uniform distribution of each element in a. If p is provided it must be a 1-D array with same number of elements as a and all elements of p must add up to 1.\n",
    "- **axis** (optional): By default axis=0 which selects by row. If **a** is a 2-D axis can decide to select from rows or cols.\n",
    "- **shuffle** (optional): Controls whether the output is shuffled when replace=False. shuffle=False provides a speedup to the running of the code. [20]\n",
    "\n",
    "In the examples below we can see that the choice method is great for selecting a value or range of values from a given array. \n",
    "In the main, the parameters a, size, replace and p would be the most utilised while axis and shuffle may be needed in some less common scenarios. \n",
    "\n"
   ]
  },
  {
   "cell_type": "code",
   "execution_count": null,
   "metadata": {
    "scrolled": true
   },
   "outputs": [],
   "source": [
    "from numpy.random import default_rng\n",
    "from numpy import ndarray\n",
    "\n",
    "rng = default_rng()\n",
    "\n",
    "# 1. select one random value from sample array [0 1 2 3 4]\n",
    "print(\"eg.1\")\n",
    "print(rng.choice(5))\n",
    "\n",
    "# 2. selects random 2x2 array from sample array [0 1 2 3 4]\n",
    "print(\"eg.2\")\n",
    "print(rng.choice(5, size=(2,2)))\n",
    "\n",
    "# 3. selects random value from sample array [0 1 2 3 4], \n",
    "# value cannot be selected twice as it is not replaced after selection\n",
    "print(\"eg.3\")\n",
    "print(rng.choice(5, size=3, replace=False))\n",
    "\n",
    "# 4. assign probability of outcome. from array [0 1 2 3 4] 0 has 60% chance of being selected\n",
    "print(\"eg.4\")\n",
    "print(rng.choice(5, p=[.6, .1, .1, .1, .1]))\n",
    "\n",
    "# Selecting axis\n",
    "arr = [[1,2,3],[7,8,9]] # 2-D array arr\n",
    "x = rng.choice(arr, size=1, axis=0) # selects by row\n",
    "y = rng.choice(arr, size=1, axis=1) # selects by col\n",
    "print(\"eg.5\")\n",
    "print(x, y)\n",
    "\n",
    "# shuffle=True & shuffle=False\n",
    "x = rng.choice(5, size=5, replace=False, shuffle=True) # Shuffle values, retrns in random order\n",
    "y = rng.choice(5, size=5, replace=False, shuffle=False) # returns array in order [0 1 2 3 4]\n",
    "\n",
    "print(\"eg.6\")\n",
    "print(x, y)"
   ]
  },
  {
   "cell_type": "markdown",
   "metadata": {},
   "source": [
    "#### 3d) bytes\n",
    "***\n",
    "The `bytes()` method takes a single input `length` and returns a string of random bytes of length `length` [21].\n",
    "```python\n",
    "bytes(length)\n",
    "```\n",
    "Generating random bytes for functions such as encrypting or salting for security or authentication purposes [22].\n"
   ]
  },
  {
   "cell_type": "code",
   "execution_count": null,
   "metadata": {},
   "outputs": [],
   "source": [
    "from numpy.random import default_rng\n",
    "\n",
    "rng = default_rng()\n",
    "\n",
    "x = rng.bytes(1)\n",
    "y = rng.bytes(10)\n",
    "\n",
    "print(\"x: \", x)\n",
    "print(\"y: \", y)"
   ]
  },
  {
   "cell_type": "markdown",
   "metadata": {},
   "source": [
    "### 4. Permutations\n",
    "***\n",
    "The permutation functions in numpy.random refer to methods for the arrangement or rearrangement of elements within a set [23].\n",
    "\n",
    "numpy.random has two such permutations functions that we will look at in more detail:\n",
    "\n",
    "1. shuffle\n",
    "2. permutation"
   ]
  },
  {
   "cell_type": "markdown",
   "metadata": {},
   "source": [
    "#### 4a) shuffle\n",
    "***\n",
    "The `shuffle()` method modifies a sequence by randomly shuffling its elements. shuffle takes one required parameter and one optional parameter listed below [24]:\n",
    "```python\n",
    "shuffle(x, axis=0)\n",
    "```\n",
    "- **x**: The array or list to be shuffled\n",
    "- **axis** (optional): Dictates the axis for x to be shuffled on. Only applicable to ndarray objects.\n",
    "\n",
    "The return value of shuffle is **None**, this means it is not to be used to produce a copy of the original array **x** but instead modifies the array structure itself. This behaviour is seen in the example eg.1 below. Shuffle can also be used on strings provided they are in an array like structure like in eg.2 below.\n"
   ]
  },
  {
   "cell_type": "code",
   "execution_count": null,
   "metadata": {},
   "outputs": [],
   "source": [
    "# eg.1\n",
    "from numpy.random import default_rng\n",
    "from numpy import arange\n",
    "\n",
    "# initialise generator object rng\n",
    "rng = default_rng()\n",
    "\n",
    "arr = arange(9) # create array [0,9] exclusive\n",
    "print(arr) # array in order\n",
    "\n",
    "rng.shuffle(arr) # shuffle the array\n",
    "print(arr) # new array order printed\n",
    "\n",
    "x = rng.shuffle(arr) # assign shuffle to new variable returns a None value\n",
    "print(x)"
   ]
  },
  {
   "cell_type": "code",
   "execution_count": null,
   "metadata": {},
   "outputs": [],
   "source": [
    "# eg.2\n",
    "from numpy.random import default_rng\n",
    "\n",
    "rng = default_rng()\n",
    "\n",
    "str = \"just a few words\"\n",
    "y = list(str)  # y is a list of chars from string str\n",
    "\n",
    "print(y) # print original list\n",
    "rng.shuffle(y) # shuffle elements in list\n",
    "\n",
    "print(y) # print shuffled list\n"
   ]
  },
  {
   "cell_type": "markdown",
   "metadata": {},
   "source": [
    "#### 4b) permutation\n",
    "***\n",
    "The `permutation()` method returns a sequence by randomly altering the arangement of an input sequence or range **x**. permutation takes one required parameter and one optional parameter listed below [25]: \n",
    "```python\n",
    "permutation(x, axis=0)\n",
    "```\n",
    "- **x**: input int or array. If x is an int, that int is passed to np.arange to create a range of values. If x is an array, a copy is made and the elements are shuffled randomly.\n",
    "- **axis** (optional): Dictates the axis for x to be shuffled on. Default is 0\n",
    "\n",
    "Unlike the shuffle method, permutation leaves the original array intact and returns a new array which is a shuffled copy of the original."
   ]
  },
  {
   "cell_type": "code",
   "execution_count": null,
   "metadata": {
    "scrolled": true
   },
   "outputs": [],
   "source": [
    "from numpy.random import default_rng\n",
    "from numpy import arange\n",
    "\n",
    "rng = default_rng() # initialise generator object rng\n",
    "\n",
    "# eg.1\n",
    "a = rng.permutation(9) # int 9 passed to np.arange to create array\n",
    "print(a, \"values 0-9 exclusive shuffled\\n\")\n",
    "\n",
    "# eg. 2\n",
    "arr = arange(9) #  create array [0,9] exclusive \n",
    "print(arr, \"arr in its original format\")\n",
    "\n",
    "rng.permutation(arr) # unlike shuffle this does not alter original array\n",
    "\n",
    "x = rng.permutation(arr) # new array x created, permuted copy of arr\n",
    "\n",
    "print(x, \"x is a shuffled copy of arr\")\n",
    "print(arr, \"arr remains unchanged\")"
   ]
  },
  {
   "cell_type": "markdown",
   "metadata": {},
   "source": [
    "### 5. numpy.random Distributions\n",
    "***\n",
    "numpy.random has a large set of standard statistical distributions from which we can generate our sample data. These distributions describes the likelihood that a given event would occur. Each distribution describes a probability that can be observed in the real world, for example the uniform distribution can be described as a dice roll where all numbers on the die are equally as likely as each other to occur [26].\n",
    "\n",
    "In this section we will look at 5 distributions available in the numpy.random module and see how they can be used to generate sample data.\n",
    "\n",
    "The five distribution functions we will look at are:\n",
    "1. uniform\n",
    "2. standard_normal\n",
    "3. binomial\n",
    "4. poisson\n",
    "5. geometric"
   ]
  },
  {
   "cell_type": "markdown",
   "metadata": {},
   "source": [
    "#### 5a) uniform distribution\n",
    "***\n",
    "The `uniform()` method generates a sample which is uniformly distributed between a low and a high value. This means that any values in that range is equally as likely to be selected as another. uniform takes three optional arguments listed below: [27]\n",
    "```python\n",
    "uniform(low=0.0, high=1.0, size=None)\n",
    "```\n",
    "- **low** (optional): low sets the lowest possible value that can be drawn by uniform. The output must be equal to or greater than low. If no low value is specified the default is 0.0.\n",
    "- **high** (optional): high sets the upper value of the output. The output must be less than high and cannot be equal to it. By default high is 1.0.\n",
    "- **size** (optional): size dictates the shape of the output. size can be an int or a tupe of ints if mulit-dimensional output is required. By default size=None which returns a single value as output. [27]\n",
    "\n",
    "As we can see in eg.1 below uniform can generate any continuous value between it's low and high values. As we increase the sample size we can start to see the true shape of the uniform distribution. \n",
    "\n",
    "In eg.2 below, the green plot x can vary between flat and bell shaped. This is because with a small sample, only 10 values, it can easily be altered by some outliers. In the red plot y we can see the true shape of the distribution. All values within the range are equally likely to occur and therefore show a flat shape at the top.\n"
   ]
  },
  {
   "cell_type": "code",
   "execution_count": null,
   "metadata": {},
   "outputs": [],
   "source": [
    "from numpy.random import default_rng\n",
    "import seaborn as sns\n",
    "\n",
    "rng = default_rng()\n",
    "# eg.1 generated single value between 0-1\n",
    "print(rng.uniform()) # all values equally likely to occur\n",
    "\n",
    "# eg.2 generate 10 values between 0-10\n",
    "x = rng.uniform(0, 10, size=(10)) \n",
    "# display plot of distribution of values in x\n",
    "sns.distplot(x, color=\"g\")\n",
    "\n",
    "# generate 10000 values between 10-20\n",
    "y = rng.uniform(10, 20, size=(10000)) \n",
    "sns.distplot(y, color=\"r\")"
   ]
  },
  {
   "cell_type": "markdown",
   "metadata": {},
   "source": [
    "#### 5b) standard_normal distribution\n",
    "***\n",
    "The `standard_normal()` method generates a sample from a standard normal distribution where the mean value is 0 and the standard deviation is [28]. The normal distribution or Gaussian distribution as it is also know, where the values tend to cluster around a central value (mean) and 95% of values exist within 2 standard deviations of the mean. In the case of standard_normal where the mean is 0 95% of values should exist between -2 and 2, equally spaced either side of the mean [29].\n",
    "\n",
    "The standard_normal method has 3 optional parameters listed below:\n",
    "- **size** (optional): Governs the output shape. Can be an int or a tuple of ints if multi-dimensional output is required. By default size=None which returns a single value\n",
    "- **dtype** (optional): Can be used to set the data type of output. float64 and float32 options are supported, np.float64 is the default value.\n",
    "- **out** (optional): An output array can be entered to place the result of the function. It must have the same shape as size and data type must match the output.\n",
    "\n",
    "As we can see from the output of the example below, all values exist around the central value 0. The vast majority of those values exist between -2 and 2, within 2 standard deviations. If it is required to generate data with different mean and standard deviation values, the [normal()](https://numpy.org/doc/stable/reference/random/generated/numpy.random.Generator.normal.html) method allows customisation of those values while still producing a normal or Gaussian distribution."
   ]
  },
  {
   "cell_type": "code",
   "execution_count": null,
   "metadata": {
    "scrolled": true
   },
   "outputs": [],
   "source": [
    "from numpy.random import default_rng\n",
    "import seaborn as sns\n",
    "\n",
    "rng = default_rng()\n",
    "\n",
    "x = rng.standard_normal(1000) \n",
    "sns.distplot(x)"
   ]
  },
  {
   "cell_type": "markdown",
   "metadata": {},
   "source": [
    "#### 5c) binomial\n",
    "***\n",
    "The `binomial()` method generates a sample from a binomial distribution where the parameters **n** is the number of trials and **p** is probability of an outcome occurring [30]. The binomial method takes 3 parameters listed below:\n",
    "\n",
    "- **n**: Number of trials to conduct. n must be greater than zero, while floats can be entered they will be truncated to integers for execution.\n",
    "- **p**: Probability of success for our output. p must be between 0-1, 0.5=50% 0.9=90% likelihood of occurring ect.\n",
    "- **size** (optional): Output shape. n trials to be conducted size times. By default size=None which returns a single value. size can be an int of tuple of ints if mulit-dimensional output is required.\n",
    "\n",
    "The binomial distribution is the sum of the outcomes over two discrete possibilities. In other words given two possible outcomes, for example the flipping of a coin 10 times, the outcome can be either heads or tails. If our variable represents heads a **p** of .5 or a 50% chance of occurring each trial over **n** or 10 total trials. The output then is the some of how many times heads occurred [26]. \n",
    "\n",
    "In the example below the variable represents a heads occurring on a coin flip. We conduct 10 flips of the coin (n=10), each flip has a 50% chance of being heads (p=.5). We count the total number of heads in those 10 flips and conduct that test 1000 times (size=1000). Statistically the most likely outcome is that we would flip a heads 5 times, 4 and 6 should be equally less likely to occur and so on. \n",
    "\n",
    "The binomial distribution allows us to model such discrete outcomes with varying probabilities. The binomial distribution is very similar to the normal distribution seen earlier but with discrete values instead of coninuous values, as the number of trials increase the more it begins to resemble the normal distribution [26]."
   ]
  },
  {
   "cell_type": "code",
   "execution_count": null,
   "metadata": {},
   "outputs": [],
   "source": [
    "from numpy.random import default_rng\n",
    "import seaborn as sns\n",
    "\n",
    "rng = default_rng()\n",
    "\n",
    "heads = rng.binomial(n=10, p=.5, size=1000)\n",
    "\n",
    "sns.distplot(heads, kde=False)\n"
   ]
  },
  {
   "cell_type": "markdown",
   "metadata": {},
   "source": [
    "#### 5d) poisson\n",
    "***\n",
    "The `poisson()` method generates random data in a poisson distribution with an average rate of occurrence **lam**. The poisson distribution is related to the binomial distribution in that it counts discrete occurrences of an event, but unlike binomial it is not limited just to an event occurring or not occurring but instead how many times a given event occurs over a fixed interval (time, distance, area, ect.) [26]. \n",
    "```python\n",
    "poisson(lam=1.0, size=None)\n",
    "```\n",
    "- **lam**: Expectation of interval, in other words the expected occurences within the period, ie. the average or expected average. By default 1.0, can be float or an array of floats.\n",
    "- **size**: Output shape, by default size=None and returns a single value. Can be an int or tuple of ints. [31]\n",
    "\n",
    "In our example below the `ordersPerHour` variable uses the poisson distribution to estimate how many orders a product might receive in one hour, across a sample of 1000 hours, given that the average number of orders per hour is 3. From that variable we can plot the likely occurrences."
   ]
  },
  {
   "cell_type": "code",
   "execution_count": null,
   "metadata": {},
   "outputs": [],
   "source": [
    "from numpy.random import default_rng\n",
    "import seaborn as sns\n",
    "\n",
    "rng = default_rng()\n",
    "\n",
    "ordersPerHour = rng.poisson(3, 1000)\n",
    "\n",
    "sns.distplot(ordersPerHour, kde=False)"
   ]
  },
  {
   "cell_type": "markdown",
   "metadata": {},
   "source": [
    "#### 5e) geometric\n",
    "***\n",
    "The geometric distribution is related to the binomial distribution that we looked at earlier. Where the binomial looks at how many success there are for an event with a certain probability, the geometric distribution looks for how many trials are need to reach a successful occurrence. If we take a coin flip as our example, binomial will look at how many heads we see in **n** trials. geometric will instead look at how many trials did it take for us to get a result of heads [26][32].\n",
    "\n",
    "The `geometric()` method has 2 parameters listed below:\n",
    "\n",
    "- **p**: The probability of a successful result. in the coin flip example it would be 0.5. Must be a float or array of floats.\n",
    "- **size** (optional): Output shape, can be an int or a tuple of ints. Bu defualt size=None returns a single value.\n",
    "\n",
    "The below example uses the geometric probability method to estimate how many rolls of 2 dice it should take to get a value of 2. When rolling 2 dice there is only on possible combination of dice out of 11 total possible combinations, hence `p=1/11`. We run the test 10000 times and we can observe the results.\n",
    "\n",
    "The plot shows that the majority of the values exist close to the mean, in this case *11.0051*. However unlike a normal distribution there is a tail of outliers where it took an abnormally large amount of trials to see a successful outcome, in this case there was one where it took *96* trials before a success.\n",
    "\n",
    "The geometric method looks at discrete values, how many trials before outcome occurs. [Exponential()](https://numpy.org/doc/stable/reference/random/generated/numpy.random.Generator.exponential.html#r0dbb9b01ef9c-3) instead looks at continuous values, such as how long does it take for the outcome to occur next. "
   ]
  },
  {
   "cell_type": "code",
   "execution_count": null,
   "metadata": {},
   "outputs": [],
   "source": [
    "from numpy.random import default_rng\n",
    "import seaborn as sns\n",
    "# initialise rng with seed for reproducibility\n",
    "rng = default_rng(123456)\n",
    "\n",
    "# generate data using geometric function\n",
    "snakeEyes = rng.geometric(p=1/11, size=(10000))\n",
    "# print basic stats from data\n",
    "print(snakeEyes.max())\n",
    "print(snakeEyes.min())\n",
    "print(snakeEyes.mean())\n",
    "# plot data\n",
    "sns.distplot(snakeEyes, kde=False)"
   ]
  },
  {
   "cell_type": "markdown",
   "metadata": {},
   "source": [
    "## 6. Summary\n",
    "***\n",
    "Numpy's random module provides many methods and functions for efficiently generating large samples of random data.\n",
    "\n",
    "Where as the python stdlib random module can only sample one value at a time, numpy.random allows for much more efficient generation of ranges and multi-dimensional arrays.\n",
    "\n",
    "It allows us to quickly generate large arrays of data, from simple ints and floats to many different advance statistical probability distributions. These can be used for calculations, models and visualisations of key concepts.\n",
    "\n",
    "The numpy.random module is constantly evolving and more recent versions have changed to recommend the Generator object. This has reduced backward compatibility of code and requires the user to be more aware of package versions and use virtual enviroments for specific tasks or legacy code. The changes however should allow for increase functionality and performance as numpy.random adopts faster and improved algorithms such as the O’Neill’s permutation congruential generator algorithm (PCG64)."
   ]
  },
  {
   "cell_type": "markdown",
   "metadata": {},
   "source": [
    "## 7. References\n",
    "***"
   ]
  },
  {
   "cell_type": "markdown",
   "metadata": {},
   "source": [
    "1. McKinney, W., (2018). Python for Data Analysis: Data Wrangling with Pandas, NumPy, and IPython, Second Edition. p85\n",
    "2. McKinney, W., (2018). Python for Data Analysis: Data Wrangling with Pandas, NumPy, and IPython, Second Edition. p86  \n",
    "3. numpy.org, (2020). About Numpy. https://numpy.org/doc/stable/about.html  \n",
    "4. M. Scott Shell, (2019). An introduction to Numpy and Scipy, p2. p19. https://sites.engineering.ucsb.edu/~shell/che210d/numpy.pdf  \n",
    "5. numpy.org, Installing Numpy. https://numpy.org/install/  \n",
    "6. numpy.org, (2020), NumPy: the absolute basics for beginners, https://numpy.org/devdocs/user/absolute_beginners.html  \n",
    "7. numpy.org, (2020), Random sampling (numpy.random), https://numpy.org/doc/stable/reference/random/index.html?  \n",
    "8. McKinney, W., (2018). Python for Data Analysis: Data Wrangling with Pandas, NumPy, and IPython, Second Edition. p118\n",
    "9. w3schools, (2020). w3schools.com. https://www.w3schools.com/python/numpy_random.asp\n",
    "10. numpy.org, (2020). Random Generator. https://numpy.org/doc/stable/reference/random/generator.html\n",
    "11. numpy.org, (2020). Legacy Random Generation. https://numpy.org/doc/stable/reference/random/legacy.html#numpy.random.RandomState\n",
    "12. numpy.org, (2019). Random Number Generation Policy. https://numpy.org/neps/nep-0019-rng-policy.html\n",
    "13. pcg-random.org, (2018). PCG, A Family of Better Random Number Generators. https://www.pcg-random.org/\n",
    "14. O'Neill, Melissa (2014). PCG: A Family of Simple Fast, Space-Efficient Statistically, Good Algorithms for Random Number Generation, p7-8. https://www.pcg-random.org/pdf/hmc-cs-2014-0905.pdf\n",
    "15. numpy.org, (2020). numpy.random.seed. https://numpy.org/doc/stable/reference/random/generated/numpy.random.seed.html\n",
    "16. numpy.org, (2020). numpy.random.integers. https://numpy.org/doc/stable/reference/random/generated/numpy.random.Generator.integers.html\n",
    "17. Weisstein, Eric W. Discrete Uniform Distribution. https://mathworld.wolfram.com/DiscreteUniformDistribution.html\n",
    "18. numpy.org, (2020). numpy.random.random. https://numpy.org/doc/stable/reference/random/generated/numpy.random.Generator.random.html\n",
    "19. Hartmann, K., Krois, J., Waske, B. (2018): E-Learning Project SOGA: Statistics and Geospatial Data Analysis. Department of Earth Sciences, Freie Universitaet Berlin. https://www.geo.fu-berlin.de/en/v/soga/Basics-of-statistics/Continous-Random-Variables/Continuous-Uniform-Distribution/index.html\n",
    "20. numpy.org, (2020). numpy.random.Generator.choice. https://numpy.org/doc/stable/reference/random/generated/numpy.random.Generator.choice.html\n",
    "21. numpy.org, (2020). numpy.random.Generator.bytes. https://numpy.org/doc/stable/reference/random/generated/numpy.random.Generator.bytes.html\n",
    "22. avelx.co.uk, (2015). random bytes nad random int functions. https://www.avelx.co.uk/random-bytes-and-random-int-functions/\n",
    "23. w3schools, (2020). Random Permutations. https://www.w3schools.com/python/numpy_random_permutation.asp\n",
    "24. numpy.org, (2020). numpy.random.Generator.shuffle. https://numpy.org/doc/stable/reference/random/generated/numpy.random.Generator.shuffle.html\n",
    "25. numpy.org, (2020). numpy.random.Generator.permutation. https://numpy.org/doc/stable/reference/random/generated/numpy.random.Generator.permutation.html\n",
    "26. Owen, Sean, (2018). Common Probability Distributions: The Data Scientist’s Crib Sheet. https://medium.com/@srowen/common-probability-distributions-347e6b945ce4\n",
    "27. numpy.org, (2020). numpy.random.Generator.uniform. https://numpy.org/doc/stable/reference/random/generated/numpy.random.Generator.uniform.html\n",
    "28. numpy.org, (2020). numpy.random.Generator.standard_normal https://numpy.org/doc/stable/reference/random/generated/numpy.random.Generator.standard_normal.html\n",
    "29. Math is fun, (2019). Normal Distribution. https://www.mathsisfun.com/data/standard-normal-distribution.html\n",
    "30. numpy.org, (2020). numpy.random.Generator.binomial. https://numpy.org/doc/stable/reference/random/generated/numpy.random.Generator.binomial.html\n",
    "31. numpy.org, (2020). numpy.random.Generator.poisson. https://numpy.org/doc/stable/reference/random/generated/numpy.random.Generator.poisson.html\n",
    "32. numpy.org, (2020). numpy.random.Generator.geometric. https://numpy.org/doc/stable/reference/random/generated/numpy.random.Generator.geometric.html\n",
    "\n",
    "\n",
    "\n",
    "\n",
    "\n",
    "\n",
    "\n",
    "\n",
    "    \n",
    "    \n",
    "   "
   ]
  }
 ],
 "metadata": {
  "kernelspec": {
   "display_name": "Python 3",
   "language": "python",
   "name": "python3"
  },
  "language_info": {
   "codemirror_mode": {
    "name": "ipython",
    "version": 3
   },
   "file_extension": ".py",
   "mimetype": "text/x-python",
   "name": "python",
   "nbconvert_exporter": "python",
   "pygments_lexer": "ipython3",
   "version": "3.8.3"
  }
 },
 "nbformat": 4,
 "nbformat_minor": 4
}
